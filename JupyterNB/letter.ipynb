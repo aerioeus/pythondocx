{
 "cells": [
  {
   "cell_type": "code",
   "execution_count": 1,
   "metadata": {
    "metadata": {}
   },
   "outputs": [],
   "source": [
    "#Import the necessary libraries\n",
    "import pandas as pd\n",
    "from docx import Document\n",
    "import os\n",
    "from docx2pdf import convert\n",
    "import win32com.client"
   ]
  },
  {
   "cell_type": "code",
   "execution_count": 2,
   "metadata": {
    "metadata": {}
   },
   "outputs": [],
   "source": [
    "# Function to load Excel data into a DataFrame\n",
    "def load_excel_data(file_path: str, sheet_name: str = 'Sheet1') -> pd.DataFrame:\n",
    "    \"\"\"\n",
    "    Load data from an Excel file into a Pandas DataFrame.\n",
    "    \n",
    "    Args:\n",
    "        file_path (str): Path to the Excel file.\n",
    "        sheet_name (str): Name of the Excel sheet to read data from.\n",
    "\n",
    "    Returns:\n",
    "        pd.DataFrame: DataFrame containing the Excel data.\n",
    "    \"\"\"\n",
    "    return pd.read_excel(file_path, sheet_name=sheet_name)"
   ]
  },
  {
   "cell_type": "code",
   "execution_count": 3,
   "metadata": {
    "metadata": {}
   },
   "outputs": [],
   "source": [
    "# Function to create a personalized letter from the template\n",
    "def create_personalized_letter(template_path: str, data: dict, output_path: str) -> None:\n",
    "    \"\"\"\n",
    "    Create a personalized letter by replacing placeholders in the Word template.\n",
    "\n",
    "    Args:\n",
    "        template_path (str): Path to the Word document template.\n",
    "        data (dict): Dictionary containing placeholders and corresponding replacement values.\n",
    "        output_path (str): Path to save the personalized letter.\n",
    "    \"\"\"\n",
    "    # Check if template file exists\n",
    "    if not os.path.exists(template_path):\n",
    "        raise FileNotFoundError(f\"Template file '{template_path}' not found.\")\n",
    "\n",
    "    # Load the Word document template\n",
    "    doc = Document(template_path)\n",
    "\n",
    "    # Replace placeholders with actual data\n",
    "    for paragraph in doc.paragraphs:\n",
    "        for placeholder, replacement in data.items():\n",
    "            if placeholder in paragraph.text:\n",
    "                paragraph.text = paragraph.text.replace(placeholder, str(replacement))\n",
    "\n",
    "    # Replace placeholders in tables\n",
    "    for table in doc.tables:\n",
    "        for row in table.rows:\n",
    "            for cell in row.cells:\n",
    "                for placeholder, replacement in data.items():\n",
    "                    if placeholder in cell.text:\n",
    "                        cell.text = cell.text.replace(placeholder, str(replacement))\n",
    "\n",
    "    # Save the personalized letter\n",
    "    doc.save(output_path)"
   ]
  },
  {
   "cell_type": "code",
   "execution_count": 4,
   "metadata": {
    "metadata": {}
   },
   "outputs": [],
   "source": [
    "#Function to count the number of files with a specific extension in a directory\n",
    "def count_files_in_directory(directory: str, file_extension: str) -> int:\n",
    "    \"\"\"\n",
    "    Count the number of files with a specific extension in the given directory.\n",
    "\n",
    "    Args:\n",
    "        directory (str): Path to the directory where files are stored.\n",
    "        file_extension (str): Extension of the files to count.\n",
    "\n",
    "    Returns:\n",
    "        int: Number of files with the specified extension.\n",
    "    \"\"\"\n",
    "    # List all files in the directory\n",
    "    files = os.listdir(directory)\n",
    "    # Filter and count files with the specific extension\n",
    "    count = sum(1 for file in files if file.endswith(file_extension))\n",
    "    return count"
   ]
  },
  {
   "cell_type": "code",
   "execution_count": 5,
   "metadata": {
    "metadata": {}
   },
   "outputs": [],
   "source": [
    "# Function to generate serial letters using data from the Excel table and include file counting\n",
    "def generate_serial_letters(template_path: str, excel_path: str, output_dir: str, sheet_name: str = 'Sheet1') -> None:\n",
    "    \"\"\"\n",
    "    Generate serial letters using a Word template and data from an Excel table.\n",
    "\n",
    "    Args:\n",
    "        template_path (str): Path to the Word document template.\n",
    "        excel_path (str): Path to the Excel file containing the data.\n",
    "        output_dir (str): Directory to save the personalized letters.\n",
    "        sheet_name (str): Name of the Excel sheet to read data from.\n",
    "    \"\"\"\n",
    "    # Check if Excel file exists\n",
    "    if not os.path.exists(excel_path):\n",
    "        raise FileNotFoundError(f\"Excel file '{excel_path}' not found.\")\n",
    "\n",
    "    # Load Excel data\n",
    "    df = load_excel_data(excel_path, sheet_name)\n",
    "\n",
    "    # Ensure output directory exists\n",
    "    os.makedirs(docx_folder, exist_ok=True)\n",
    "\n",
    "    # Generate a personalized letter for each row in the DataFrame\n",
    "    for _, row in df.iterrows():\n",
    "        data = {f\"{{{col}}}\": val for col, val in row.items()}  # Placeholder format {ColumnName}\n",
    "        output_path = os.path.join(docx_folder, f\"{row['Name']}_letter.docx\")\n",
    "        create_personalized_letter(template_path, data, output_path)\n",
    "        print(f\"Created: {output_path}\")\n",
    "\n",
    "    # Count DOCX files\n",
    "    docx_count = count_files_in_directory(output_dir, '.docx')\n",
    "    print(f\"Total DOCX files created: {docx_count}\")"
   ]
  },
  {
   "cell_type": "code",
   "execution_count": 6,
   "metadata": {
    "metadata": {}
   },
   "outputs": [],
   "source": [
    "# Function to convert all .docx files in a directory to PDFs and include file counting\n",
    "def convert_all_word_files_to_pdfs(word_dir: str, pdf_dir: str) -> None:\n",
    "    def close_word():\n",
    "        try:\n",
    "            word = win32com.client.Dispatch(\"Word.Application\")\n",
    "            word.Quit()\n",
    "        except Exception as e:\n",
    "            print(\"Failed to close Word:\", e)\n",
    "\n",
    "    # Create the output folder if it doesn't exist\n",
    "    if not os.path.exists(pdf_output_folder):\n",
    "        os.makedirs(pdf_output_folder)\n",
    "\n",
    "    # Convert each DOCX file in the input folder to PDF and save in the output folder\n",
    "    try:\n",
    "        convert(docx_folder, pdf_output_folder )\n",
    "    finally:\n",
    "        close_word()\n",
    "\n",
    "    # Count PDF files\n",
    "    pdf_count = count_files_in_directory(pdf_dir, '.pdf')\n",
    "    \n",
    "    print(f\"Total PDF files created: {pdf_count}\")\n",
    "    print(\"Conversion complete.\")"
   ]
  },
  {
   "cell_type": "code",
   "execution_count": 7,
   "metadata": {
    "metadata": {}
   },
   "outputs": [
    {
     "name": "stdout",
     "output_type": "stream",
     "text": [
      "Created: letters\\John_letter.docx\n",
      "Created: letters\\Jane_letter.docx\n",
      "Total DOCX files created: 2\n"
     ]
    },
    {
     "data": {
      "application/vnd.jupyter.widget-view+json": {
       "model_id": "a963d1e41aa64f58bcc66ca199e92007",
       "version_major": 2,
       "version_minor": 0
      },
      "text/plain": [
       "  0%|          | 0/2 [00:00<?, ?it/s]"
      ]
     },
     "metadata": {},
     "output_type": "display_data"
    },
    {
     "name": "stdout",
     "output_type": "stream",
     "text": [
      "Total PDF files created: 2\n",
      "Conversion complete.\n"
     ]
    }
   ],
   "source": [
    "# Example usage to generate serial letters and convert them to PDFs\n",
    "template_path = 'template.docx'\n",
    "excel_path = 'data.xlsx'\n",
    "docx_folder = 'letters'\n",
    "pdf_output_folder = 'pdfs'\n",
    "\n",
    "# Check that files exist\n",
    "if not os.path.exists(template_path):\n",
    "    raise FileNotFoundError(f\"Template file '{template_path}' not found.\")\n",
    "\n",
    "if not os.path.exists(excel_path):\n",
    "    raise FileNotFoundError(f\"Excel file '{excel_path}' not found.\")\n",
    "\n",
    "# Generate personalized letters\n",
    "generate_serial_letters(template_path, excel_path, docx_folder)\n",
    "\n",
    "# Convert the letters to PDFs\n",
    "convert_all_word_files_to_pdfs(docx_folder, pdf_output_folder )"
   ]
  }
 ],
 "metadata": {
  "kernelspec": {
   "display_name": "Python 3",
   "language": "python",
   "name": "python3"
  },
  "language_info": {
   "codemirror_mode": {
    "name": "ipython",
    "version": 3
   },
   "file_extension": ".py",
   "mimetype": "text/x-python",
   "name": "python",
   "nbconvert_exporter": "python",
   "pygments_lexer": "ipython3",
   "version": "3.12.3"
  }
 },
 "nbformat": 4,
 "nbformat_minor": 2
}
