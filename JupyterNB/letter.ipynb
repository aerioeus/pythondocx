{
 "cells": [
  {
   "cell_type": "code",
   "execution_count": 41,
   "metadata": {
    "metadata": {}
   },
   "outputs": [],
   "source": [
    "#Import the necessary libraries\n",
    "import pandas as pd\n",
    "from docx import Document\n",
    "import os\n",
    "from spire.doc import *\n",
    "from spire.doc.common import *\n"
   ]
  },
  {
   "cell_type": "code",
   "execution_count": 30,
   "metadata": {
    "metadata": {}
   },
   "outputs": [],
   "source": [
    "# Function to load Excel data into a DataFrame\n",
    "def load_excel_data(file_path: str, sheet_name: str = 'Sheet1') -> pd.DataFrame:\n",
    "    \"\"\"\n",
    "    Load data from an Excel file into a Pandas DataFrame.\n",
    "    \n",
    "    Args:\n",
    "        file_path (str): Path to the Excel file.\n",
    "        sheet_name (str): Name of the Excel sheet to read data from.\n",
    "\n",
    "    Returns:\n",
    "        pd.DataFrame: DataFrame containing the Excel data.\n",
    "    \"\"\"\n",
    "    return pd.read_excel(file_path, sheet_name=sheet_name)"
   ]
  },
  {
   "cell_type": "code",
   "execution_count": 31,
   "metadata": {
    "metadata": {}
   },
   "outputs": [],
   "source": [
    "# Function to create a personalized letter from the template\n",
    "def create_personalized_letter(template_path: str, data: dict, output_path: str) -> None:\n",
    "    \"\"\"\n",
    "    Create a personalized letter by replacing placeholders in the Word template.\n",
    "\n",
    "    Args:\n",
    "        template_path (str): Path to the Word document template.\n",
    "        data (dict): Dictionary containing placeholders and corresponding replacement values.\n",
    "        output_path (str): Path to save the personalized letter.\n",
    "    \"\"\"\n",
    "    # Check if template file exists\n",
    "    if not os.path.exists(template_path):\n",
    "        raise FileNotFoundError(f\"Template file '{template_path}' not found.\")\n",
    "    \n",
    "    # Load the Word document template\n",
    "    doc = Document(template_path)\n",
    "\n",
    "    # Replace placeholders with actual data\n",
    "    for paragraph in doc.paragraphs:\n",
    "        for placeholder, replacement in data.items():\n",
    "            if placeholder in paragraph.text:\n",
    "                paragraph.text = paragraph.text.replace(placeholder, str(replacement))\n",
    "\n",
    "    # Replace placeholders in tables\n",
    "    for table in doc.tables:\n",
    "        for row in table.rows:\n",
    "            for cell in row.cells:\n",
    "                for placeholder, replacement in data.items():\n",
    "                    if placeholder in cell.text:\n",
    "                        cell.text = cell.text.replace(placeholder, str(replacement))\n",
    "\n",
    "    # Save the personalized letter\n",
    "    doc.save(output_path)"
   ]
  },
  {
   "cell_type": "code",
   "execution_count": 33,
   "metadata": {
    "metadata": {}
   },
   "outputs": [],
   "source": [
    "# Function to generate serial letters using data from the Excel table\n",
    "def generate_serial_letters(template_path: str, excel_path: str, output_dir: str, sheet_name: str = 'Sheet1') -> None:\n",
    "    \"\"\"\n",
    "    Generate serial letters using a Word template and data from an Excel table.\n",
    "\n",
    "    Args:\n",
    "        template_path (str): Path to the Word document template.\n",
    "        excel_path (str): Path to the Excel file containing the data.\n",
    "        output_dir (str): Directory to save the personalized letters.\n",
    "        sheet_name (str): Name of the Excel sheet to read data from.\n",
    "    \"\"\"\n",
    "    # Check if Excel file exists\n",
    "    if not os.path.exists(excel_path):\n",
    "        raise FileNotFoundError(f\"Excel file '{excel_path}' not found.\")\n",
    "    \n",
    "    # Load Excel data\n",
    "    df = load_excel_data(excel_path, sheet_name)\n",
    "\n",
    "    # Ensure output directory exists\n",
    "    os.makedirs(output_dir, exist_ok=True)\n",
    "\n",
    "    # Generate a personalized letter for each row in the DataFrame\n",
    "    for _, row in df.iterrows():\n",
    "        data = {f\"{{{col}}}\": val for col, val in row.items()}  # Placeholder format {ColumnName}\n",
    "        output_path = os.path.join(output_dir, f\"{row['Name']}_letter.docx\")\n",
    "        create_personalized_letter(template_path, data, output_path)\n",
    "        print(f\"Created: {output_path}\")"
   ]
  },
  {
   "cell_type": "code",
   "execution_count": 38,
   "metadata": {
    "metadata": {}
   },
   "outputs": [],
   "source": [
    "# Function to convert all .docx files in a directory to PDFs\n",
    "def convert_all_word_files_to_pdfs(word_dir: str, pdf_dir: str) -> None:\n",
    "    \"\"\"\n",
    "    Convert all Word documents in a directory to PDFs.\n",
    "\n",
    "    Args:\n",
    "        word_dir (str): Directory containing the Word documents.\n",
    "        pdf_dir (str): Directory to save the resulting PDFs.\n",
    "    \"\"\"\n",
    "    # Ensure the PDF output directory exists\n",
    "    os.makedirs(pdf_dir, exist_ok=True)\n",
    "\n",
    "    # Convert each .docx file in the directory to a PDF\n",
    "    for file_name in os.listdir(word_dir):\n",
    "        if file_name.endswith('.docx'):\n",
    "            word_path = os.path.join(word_dir, file_name)\n",
    "            pdf_path = os.path.join(pdf_dir, file_name.replace('.docx', '.pdf'))\n",
    "            convert_word_to_pdf(word_path, pdf_path)\n",
    "            print(f\"Converted to PDF: {pdf_path}\")"
   ]
  },
  {
   "cell_type": "code",
   "execution_count": 40,
   "metadata": {
    "metadata": {}
   },
   "outputs": [
    {
     "name": "stdout",
     "output_type": "stream",
     "text": [
      "Created: letters\\John_letter.docx\n",
      "Created: letters\\Jane_letter.docx\n"
     ]
    },
    {
     "ename": "AttributeError",
     "evalue": "'Document' object has no attribute 'save_to_file'",
     "output_type": "error",
     "traceback": [
      "\u001b[1;31m---------------------------------------------------------------------------\u001b[0m",
      "\u001b[1;31mAttributeError\u001b[0m                            Traceback (most recent call last)",
      "Cell \u001b[1;32mIn[40], line 18\u001b[0m\n\u001b[0;32m     15\u001b[0m generate_serial_letters(template_path, excel_path, output_dir)\n\u001b[0;32m     17\u001b[0m \u001b[38;5;66;03m# Convert the letters to PDFs\u001b[39;00m\n\u001b[1;32m---> 18\u001b[0m \u001b[43mconvert_all_word_files_to_pdfs\u001b[49m\u001b[43m(\u001b[49m\u001b[43moutput_dir\u001b[49m\u001b[43m,\u001b[49m\u001b[43m \u001b[49m\u001b[43mpdf_output_dir\u001b[49m\u001b[43m)\u001b[49m\n",
      "Cell \u001b[1;32mIn[38], line 18\u001b[0m, in \u001b[0;36mconvert_all_word_files_to_pdfs\u001b[1;34m(word_dir, pdf_dir)\u001b[0m\n\u001b[0;32m     16\u001b[0m word_path \u001b[38;5;241m=\u001b[39m os\u001b[38;5;241m.\u001b[39mpath\u001b[38;5;241m.\u001b[39mjoin(word_dir, file_name)\n\u001b[0;32m     17\u001b[0m pdf_path \u001b[38;5;241m=\u001b[39m os\u001b[38;5;241m.\u001b[39mpath\u001b[38;5;241m.\u001b[39mjoin(pdf_dir, file_name\u001b[38;5;241m.\u001b[39mreplace(\u001b[38;5;124m'\u001b[39m\u001b[38;5;124m.docx\u001b[39m\u001b[38;5;124m'\u001b[39m, \u001b[38;5;124m'\u001b[39m\u001b[38;5;124m.pdf\u001b[39m\u001b[38;5;124m'\u001b[39m))\n\u001b[1;32m---> 18\u001b[0m \u001b[43mconvert_word_to_pdf\u001b[49m\u001b[43m(\u001b[49m\u001b[43mword_path\u001b[49m\u001b[43m,\u001b[49m\u001b[43m \u001b[49m\u001b[43mpdf_path\u001b[49m\u001b[43m)\u001b[49m\n\u001b[0;32m     19\u001b[0m \u001b[38;5;28mprint\u001b[39m(\u001b[38;5;124mf\u001b[39m\u001b[38;5;124m\"\u001b[39m\u001b[38;5;124mConverted to PDF: \u001b[39m\u001b[38;5;132;01m{\u001b[39;00mpdf_path\u001b[38;5;132;01m}\u001b[39;00m\u001b[38;5;124m\"\u001b[39m)\n",
      "Cell \u001b[1;32mIn[37], line 14\u001b[0m, in \u001b[0;36mconvert_word_to_pdf\u001b[1;34m(word_path, pdf_path)\u001b[0m\n\u001b[0;32m     11\u001b[0m doc \u001b[38;5;241m=\u001b[39m spd\u001b[38;5;241m.\u001b[39mDocument(word_path)\n\u001b[0;32m     13\u001b[0m \u001b[38;5;66;03m# Save as PDF\u001b[39;00m\n\u001b[1;32m---> 14\u001b[0m \u001b[43mdoc\u001b[49m\u001b[38;5;241;43m.\u001b[39;49m\u001b[43msave_to_file\u001b[49m(pdf_path, spd\u001b[38;5;241m.\u001b[39mFileFormat\u001b[38;5;241m.\u001b[39mPDF)\n",
      "\u001b[1;31mAttributeError\u001b[0m: 'Document' object has no attribute 'save_to_file'"
     ]
    }
   ],
   "source": [
    "# Cell 7: Example usage to generate serial letters and convert them to PDFs\n",
    "template_path = 'template.docx'\n",
    "excel_path = 'data.xlsx'\n",
    "output_dir = 'letters'\n",
    "pdf_output_dir = 'pdfs'\n",
    "\n",
    "# Check that files exist\n",
    "if not os.path.exists(template_path):\n",
    "    raise FileNotFoundError(f\"Template file '{template_path}' not found.\")\n",
    "\n",
    "if not os.path.exists(excel_path):\n",
    "    raise FileNotFoundError(f\"Excel file '{excel_path}' not found.\")\n",
    "\n",
    "# Generate personalized letters\n",
    "generate_serial_letters(template_path, excel_path, output_dir)\n",
    "\n",
    "# Convert the letters to PDFs\n",
    "convert_all_word_files_to_pdfs(output_dir, pdf_output_dir)\n"
   ]
  },
  {
   "cell_type": "code",
   "execution_count": 46,
   "metadata": {
    "metadata": {}
   },
   "outputs": [
    {
     "ename": "SpireException",
     "evalue": "\"letters/Jane_letter.docx*\" is not exits.:   at Spire.Doc.Document.spr볌(String, String) + 0xf6\r\n   at Spire.Doc.AOT.NLDocument.Document_LoadFromFile(IntPtr, IntPtr, IntPtr) + 0x6d",
     "output_type": "error",
     "traceback": [
      "\u001b[1;31m---------------------------------------------------------------------------\u001b[0m",
      "\u001b[1;31mSpireException\u001b[0m                            Traceback (most recent call last)",
      "Cell \u001b[1;32mIn[46], line 13\u001b[0m\n\u001b[0;32m     10\u001b[0m document \u001b[38;5;241m=\u001b[39m Document()\n\u001b[0;32m     12\u001b[0m \u001b[38;5;66;03m# Load a doc or docx file\u001b[39;00m\n\u001b[1;32m---> 13\u001b[0m \u001b[43mdocument\u001b[49m\u001b[38;5;241;43m.\u001b[39;49m\u001b[43mLoadFromFile\u001b[49m\u001b[43m(\u001b[49m\u001b[38;5;124;43m\"\u001b[39;49m\u001b[38;5;124;43mletters/Jane_letter.docx*\u001b[39;49m\u001b[38;5;124;43m\"\u001b[39;49m\u001b[43m)\u001b[49m\n\u001b[0;32m     15\u001b[0m \u001b[38;5;66;03m#Save the document to PDF\u001b[39;00m\n\u001b[0;32m     16\u001b[0m document\u001b[38;5;241m.\u001b[39mSaveToFile(\u001b[38;5;124m\"\u001b[39m\u001b[38;5;124mpdfs/x.pdf\u001b[39m\u001b[38;5;124m\"\u001b[39m, FileFormat\u001b[38;5;241m.\u001b[39mPDF)\n",
      "File \u001b[1;32mc:\\Users\\aerioeus\\environments\\venv\\awspy312\\Lib\\site-packages\\plum\\function.py:642\u001b[0m, in \u001b[0;36m_BoundFunction.__call__\u001b[1;34m(self, *args, **kw_args)\u001b[0m\n\u001b[0;32m    641\u001b[0m \u001b[38;5;28;01mdef\u001b[39;00m \u001b[38;5;21m__call__\u001b[39m(\u001b[38;5;28mself\u001b[39m, \u001b[38;5;241m*\u001b[39margs, \u001b[38;5;241m*\u001b[39m\u001b[38;5;241m*\u001b[39mkw_args):\n\u001b[1;32m--> 642\u001b[0m     \u001b[38;5;28;01mreturn\u001b[39;00m \u001b[38;5;28;43mself\u001b[39;49m\u001b[38;5;241;43m.\u001b[39;49m\u001b[43mf\u001b[49m\u001b[43m(\u001b[49m\u001b[38;5;28;43mself\u001b[39;49m\u001b[38;5;241;43m.\u001b[39;49m\u001b[43minstance\u001b[49m\u001b[43m,\u001b[49m\u001b[43m \u001b[49m\u001b[38;5;241;43m*\u001b[39;49m\u001b[43margs\u001b[49m\u001b[43m,\u001b[49m\u001b[43m \u001b[49m\u001b[38;5;241;43m*\u001b[39;49m\u001b[38;5;241;43m*\u001b[39;49m\u001b[43mkw_args\u001b[49m\u001b[43m)\u001b[49m\n",
      "File \u001b[1;32mc:\\Users\\aerioeus\\environments\\venv\\awspy312\\Lib\\site-packages\\plum\\function.py:584\u001b[0m, in \u001b[0;36mFunction.__call__\u001b[1;34m(self, *args, **kw_args)\u001b[0m\n\u001b[0;32m    581\u001b[0m \u001b[38;5;66;03m# Check for the common case that the return type is object. This is\u001b[39;00m\n\u001b[0;32m    582\u001b[0m \u001b[38;5;66;03m# to speed up the common case.\u001b[39;00m\n\u001b[0;32m    583\u001b[0m \u001b[38;5;28;01mif\u001b[39;00m return_type \u001b[38;5;129;01mis\u001b[39;00m default_obj_type:\n\u001b[1;32m--> 584\u001b[0m     \u001b[38;5;28;01mreturn\u001b[39;00m \u001b[43mmethod\u001b[49m\u001b[43m(\u001b[49m\u001b[38;5;241;43m*\u001b[39;49m\u001b[43margs\u001b[49m\u001b[43m,\u001b[49m\u001b[43m \u001b[49m\u001b[38;5;241;43m*\u001b[39;49m\u001b[38;5;241;43m*\u001b[39;49m\u001b[43mkw_args\u001b[49m\u001b[43m)\u001b[49m\n\u001b[0;32m    585\u001b[0m \u001b[38;5;28;01melse\u001b[39;00m:\n\u001b[0;32m    586\u001b[0m     \u001b[38;5;28;01mreturn\u001b[39;00m _convert(method(\u001b[38;5;241m*\u001b[39margs, \u001b[38;5;241m*\u001b[39m\u001b[38;5;241m*\u001b[39mkw_args), return_type)\n",
      "File \u001b[1;32mc:\\Users\\aerioeus\\environments\\venv\\awspy312\\Lib\\site-packages\\spire\\doc\\Document.py:2120\u001b[0m, in \u001b[0;36mDocument.LoadFromFile\u001b[1;34m(self, fileName)\u001b[0m\n\u001b[0;32m   2118\u001b[0m fileNamePtr \u001b[38;5;241m=\u001b[39m StrToPtr(fileName)\n\u001b[0;32m   2119\u001b[0m GetDllLibDoc()\u001b[38;5;241m.\u001b[39mDocument_LoadFromFile\u001b[38;5;241m.\u001b[39margtypes\u001b[38;5;241m=\u001b[39m[c_void_p ,c_char_p]\n\u001b[1;32m-> 2120\u001b[0m \u001b[43mCallCFunction\u001b[49m\u001b[43m(\u001b[49m\u001b[43mGetDllLibDoc\u001b[49m\u001b[43m(\u001b[49m\u001b[43m)\u001b[49m\u001b[38;5;241;43m.\u001b[39;49m\u001b[43mDocument_LoadFromFile\u001b[49m\u001b[43m,\u001b[49m\u001b[38;5;28;43mself\u001b[39;49m\u001b[38;5;241;43m.\u001b[39;49m\u001b[43mPtr\u001b[49m\u001b[43m,\u001b[49m\u001b[43m \u001b[49m\u001b[43mfileNamePtr\u001b[49m\u001b[43m)\u001b[49m\n",
      "File \u001b[1;32mc:\\Users\\aerioeus\\environments\\venv\\awspy312\\Lib\\site-packages\\spire\\doc\\common\\__init__.py:109\u001b[0m, in \u001b[0;36mCallCFunction\u001b[1;34m(func, *args, **kwargs)\u001b[0m\n\u001b[0;32m    107\u001b[0m \u001b[38;5;28;01mif\u001b[39;00m old_value \u001b[38;5;241m!=\u001b[39m modified_value:\n\u001b[0;32m    108\u001b[0m     info \u001b[38;5;241m=\u001b[39m PtrToStr(modified_value)\n\u001b[1;32m--> 109\u001b[0m     \u001b[38;5;28;01mraise\u001b[39;00m SpireException(info)\n\u001b[0;32m    110\u001b[0m \u001b[38;5;28;01mreturn\u001b[39;00m result\n",
      "\u001b[1;31mSpireException\u001b[0m: \"letters/Jane_letter.docx*\" is not exits.:   at Spire.Doc.Document.spr볌(String, String) + 0xf6\r\n   at Spire.Doc.AOT.NLDocument.Document_LoadFromFile(IntPtr, IntPtr, IntPtr) + 0x6d"
     ]
    }
   ],
   "source": [
    "# Function to convert a Word document to PDF\n",
    "\"\"\"\n",
    "Convert a Word document to a PDF using Spire.Doc.\n",
    "\n",
    "Args:\n",
    "    word_path (str): Path to the Word document.\n",
    "    pdf_path (str): Path to save the resulting PDF.\n",
    "\"\"\"\n",
    "# Create word document\n",
    "document = Document()\n",
    "\n",
    "# Load a doc or docx file\n",
    "document.LoadFromFile(\"letters/Jane_letter.docx*\")\n",
    "\n",
    "#Save the document to PDF\n",
    "document.SaveToFile(\"pdfs/x.pdf\", FileFormat.PDF)\n",
    "document.Close()\n"
   ]
  }
 ],
 "metadata": {
  "kernelspec": {
   "display_name": "Python 3",
   "language": "python",
   "name": "python3"
  },
  "language_info": {
   "codemirror_mode": {
    "name": "ipython",
    "version": 3
   },
   "file_extension": ".py",
   "mimetype": "text/x-python",
   "name": "python",
   "nbconvert_exporter": "python",
   "pygments_lexer": "ipython3",
   "version": "3.12.3"
  }
 },
 "nbformat": 4,
 "nbformat_minor": 2
}
